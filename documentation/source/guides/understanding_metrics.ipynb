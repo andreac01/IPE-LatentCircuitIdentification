{
 "cells": [
  {
   "cell_type": "markdown",
   "id": "f2690884",
   "metadata": {},
   "source": [
    "### Metrics\n",
    "\n",
    "The goal of this library is to identify circuits by isolating highly contributional paths. Obviously we need a way to measure the contribution of a path to the final prediction. This is done via metrics.\n",
    "We provide different metrics out of the box, but you can also define your own metric. The only requirement is that the metric can be expressed as a function of the corrupted final residual stream obtained after path patching.\n",
    "\n",
    "Here we provide two examples of metrics, a simple percentage of logit difference of the target token and the indirect effect metric [(A. Stolfo et al)](arxiv.org/abs/2305.15054).\n"
   ]
  },
  {
   "cell_type": "code",
   "execution_count": null,
   "id": "fe3aa17f",
   "metadata": {},
   "outputs": [],
   "source": [
    "# from ipe.metrics import indirect_effect, target_logit_percentage\n",
    "# from functools import partial \n",
    "\n",
    "# target_logit_percentage_metric = partial(target_logit_percentage, clean_resid=clean_cache[f'blocks.{model.cfg.n_layers-1}.hook_resid_post'], model=model, target_tokens=correct_token_ids)\n",
    "# indirect_effect_metric = partial(indirect_effect, clean_resid=clean_cache[f'blocks.{model.cfg.n_layers-1}.hook_resid_post'], model=model, target_tokens=correct_token_ids, cf_target_tokens=cf_token_ids, verbose=False, set_baseline=False)"
   ]
  }
 ],
 "metadata": {
  "kernelspec": {
   "display_name": "Python 3",
   "language": "python",
   "name": "python3"
  },
  "language_info": {
   "name": "python",
   "version": "3.13.7"
  }
 },
 "nbformat": 4,
 "nbformat_minor": 5
}
