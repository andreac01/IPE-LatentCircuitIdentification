{
 "cells": [
  {
   "cell_type": "markdown",
   "id": "7ced3830",
   "metadata": {},
   "source": [
    "### Nodes\n",
    "\n",
    "Nodes are the building blocks of paths and are the core of our code. A node represents a specific component of the model at a specific layer and position (if applicable).\n",
    "\n",
    "Currently we support the following nodes:\n",
    "- `EMBED_Node`: the token embedding at position 0\n",
    "- `MLP_Node`: the MLP at a specific layer and position\n",
    "- `ATT_Node`: the attention head or block at a specific layer and position\n",
    "- `FINAL_Node`: a dummy node representing the final residual stream before the unembedding layer\n",
    "\n",
    "They expose three main methods:\n",
    "- `forward`: computes the output of the node when applying a given patching\n",
    "- `get_expansion_candidates`: returns all the predecessor nodes of the current node\n",
    "- `calculate_gradient`: computes the gradient of the metric with respect to the input of the node, passing through the path leading to the output\n",
    "\n",
    "\n",
    "Particularly to perform a search we have to start from the `FINAL_Node`, whose initialization will impact the behavior of the search.\n"
   ]
  },
  {
   "cell_type": "code",
   "execution_count": null,
   "id": "39511cc4",
   "metadata": {},
   "outputs": [],
   "source": [
    "# from ipe.nodes import FINAL_Node\n",
    "\n",
    "# root_node = FINAL_Node(\n",
    "# \t\t\t\t\t\t\tmodel=model,\n",
    "# \t\t\t\t\t\t\tlayer=model.cfg.n_layers - 1,\n",
    "# \t\t\t\t\t\t\tmetric=indirect_effect_metric,\n",
    "# \t\t\t\t\t\t\tposition=target_length - 1, #   <-- if None (non-positional analysis), else the last position of the sequence\n",
    "# \t\t\t\t\t\t\tparent=None,\n",
    "# \t\t\t\t\t\t\tchildren=set(),\n",
    "# \t\t\t\t\t\t\tmsg_cache=dict(clean_cache),\n",
    "# \t\t\t\t\t\t\tcf_cache=dict(cf_cache),\n",
    "# \t\t\t\t\t\t\tgradient=None,\n",
    "# \t\t\t\t\t\t\tpatch_type='counterfactual' # \t<--\teither 'zero' or 'counterfactual'\n",
    "# \t\t\t\t\t\t\t)\n"
   ]
  }
 ],
 "metadata": {
  "kernelspec": {
   "display_name": "Python 3",
   "language": "python",
   "name": "python3"
  },
  "language_info": {
   "name": "python",
   "version": "3.13.7"
  }
 },
 "nbformat": 4,
 "nbformat_minor": 5
}
